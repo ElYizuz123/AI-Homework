{
 "cells": [
  {
   "cell_type": "code",
   "execution_count": 3,
   "id": "e33d3e00-a7b5-47ba-bc88-5103cd781359",
   "metadata": {},
   "outputs": [],
   "source": [
    "import cv2 as cv\n",
    "import numpy as np \n",
    "#c:\\\\home\\\\misdatos\\\\imagen.jpg\n",
    "img = cv.imread(\"C:/Web proyects/AI-Homework/Programas/Apuntes/CV/tr.png\",1)\n",
    "#print(img.shape[:2])\n",
    "img2 = np.zeros(img.shape[:2], np.uint8)\n",
    "b,g,r=cv.split(img)\n",
    "b1=cv.merge([b, img2, img2])\n",
    "g1=cv.merge([img2, g, img2])\n",
    "r1=cv.merge([img2, img2, r])\n",
    "res1 = cv.merge([g,r,b])\n",
    "cv.imshow('res1', res1)\n",
    "cv.imshow('b', b)\n",
    "cv.imshow('g', g)\n",
    "cv.imshow('r', r)\n",
    "cv.imshow('b1', b1)\n",
    "cv.imshow('g1', g1)\n",
    "cv.imshow('r1', r1)\n",
    "cv.imshow('marco2', img2)\n",
    "cv.imshow('marco', img)\n",
    "cv.waitKey(0)\n",
    "cv.destroyAllWindows()"
   ]
  },
  {
   "cell_type": "markdown",
   "id": "b74d4136-c899-4315-98b0-12dbdd708642",
   "metadata": {},
   "source": [
    "Importación librerías"
   ]
  },
  {
   "cell_type": "code",
   "execution_count": null,
   "id": "d316155c-3050-4652-adc7-40c12b326f34",
   "metadata": {},
   "outputs": [],
   "source": [
    "import cv2 as cv\n",
    "import numpy as np "
   ]
  },
  {
   "cell_type": "markdown",
   "id": "8c0d0737-e192-4ab2-b00d-968b1446cb80",
   "metadata": {},
   "source": [
    "Carga de imágenes"
   ]
  },
  {
   "cell_type": "code",
   "execution_count": null,
   "id": "47a273f2-ffb3-4e97-8241-8c222835e803",
   "metadata": {},
   "outputs": [],
   "source": [
    "img = cv.imread(\"C:/Web proyects/AI-Homework/Programas/Apuntes/CV/tr.png\",1)\n",
    "#print(img.shape[:2])\n",
    "img2 = np.zeros(img.shape[:2], np.uint8)"
   ]
  },
  {
   "cell_type": "markdown",
   "id": "61e50edb-6744-4437-9548-6d5522b9c9cf",
   "metadata": {},
   "source": [
    "División de imágenes"
   ]
  },
  {
   "cell_type": "code",
   "execution_count": null,
   "id": "2233cd43-4761-4fc6-8f41-dd2142d2ab25",
   "metadata": {},
   "outputs": [],
   "source": [
    "b,g,r=cv.split(img)"
   ]
  },
  {
   "cell_type": "markdown",
   "id": "63ada56b-46d0-4776-9db6-ecac7f7942be",
   "metadata": {},
   "source": [
    "Unión de imágenes con la matríz de cero para resaltar colores"
   ]
  },
  {
   "cell_type": "code",
   "execution_count": null,
   "id": "cdbcb42d-9e99-4209-b271-e00464a7bfc7",
   "metadata": {},
   "outputs": [],
   "source": [
    "b1=cv.merge([b, img2, img2])\n",
    "g1=cv.merge([img2, g, img2])\n",
    "r1=cv.merge([img2, img2, r])\n",
    "#Aquí se está cambiando el orden de los colores para obtener una imágen diferente\n",
    "res1 = cv.merge([g,r,b])"
   ]
  },
  {
   "cell_type": "markdown",
   "id": "5b91e28c-5bda-44d5-a567-049aac01b627",
   "metadata": {},
   "source": [
    "Mostrar imágenes"
   ]
  },
  {
   "cell_type": "code",
   "execution_count": null,
   "id": "4fe477aa-f90c-46f7-9b86-a26dd7ef8a00",
   "metadata": {},
   "outputs": [],
   "source": [
    "cv.imshow('res1', res1)\n",
    "cv.imshow('b', b)\n",
    "cv.imshow('g', g)\n",
    "cv.imshow('r', r)\n",
    "cv.imshow('b1', b1)\n",
    "cv.imshow('g1', g1)\n",
    "cv.imshow('r1', r1)\n",
    "cv.imshow('marco2', img2)\n",
    "cv.imshow('marco', img)\n",
    "cv.waitKey(0)\n",
    "cv.destroyAllWindows()"
   ]
  }
 ],
 "metadata": {
  "kernelspec": {
   "display_name": "Python 3 (ipykernel)",
   "language": "python",
   "name": "python3"
  },
  "language_info": {
   "codemirror_mode": {
    "name": "ipython",
    "version": 3
   },
   "file_extension": ".py",
   "mimetype": "text/x-python",
   "name": "python",
   "nbconvert_exporter": "python",
   "pygments_lexer": "ipython3",
   "version": "3.13.3"
  }
 },
 "nbformat": 4,
 "nbformat_minor": 5
}

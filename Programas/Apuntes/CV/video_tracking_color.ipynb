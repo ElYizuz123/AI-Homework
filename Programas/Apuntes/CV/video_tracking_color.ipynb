{
 "cells": [
  {
   "cell_type": "code",
   "execution_count": 6,
   "id": "3377708c-5a0f-4de3-81b0-1f5521e59262",
   "metadata": {},
   "outputs": [],
   "source": [
    "import cv2 as cv\n",
    "import numpy as np\n",
    "\n",
    "cap = cv.VideoCapture(0)\n",
    "\n",
    "lower_blue_1 = np.array([100, 100, 20])\n",
    "upper_blue_1 = np.array([130, 255, 255])\n",
    "\n",
    "\n",
    "while True:\n",
    "    res, frame = cap.read()\n",
    "    if res:\n",
    "        hsv_frame = cv.cvtColor(frame, cv.COLOR_BGR2HSV)\n",
    "\n",
    "        mask1 = cv.inRange(hsv_frame, lower_blue_1, upper_blue_1)\n",
    "        \n",
    "        img = cv.bitwise_and(frame, frame, mask=mask1)\n",
    "\n",
    "        cv.imshow('Tracking de Azul', frame)\n",
    "        \n",
    "        cv.imshow('Mascara Azul', img)\n",
    "\n",
    "        k = cv.waitKey(1) & 0xFF\n",
    "        if k == 27:\n",
    "            break\n",
    "            \n",
    "cap.release()\n",
    "cv.destroyAllWindows()"
   ]
  },
  {
   "cell_type": "markdown",
   "id": "ab2322f9-1150-492f-ba39-f27759f6271b",
   "metadata": {},
   "source": [
    "Código para trazar línea."
   ]
  },
  {
   "cell_type": "code",
   "execution_count": 9,
   "id": "fcd4bc76-16ee-4ed8-ac34-47eff3b43076",
   "metadata": {},
   "outputs": [],
   "source": [
    "import cv2 as cv\n",
    "import numpy as np\n",
    "\n",
    "cap = cv.VideoCapture(0)\n",
    "\n",
    "lower_blue_1 = np.array([100, 100, 20])\n",
    "upper_blue_1 = np.array([130, 255, 255])\n",
    "\n",
    "trail_canvas = None\n",
    "\n",
    "while True:\n",
    "    res, frame = cap.read()\n",
    "    if res:\n",
    "        if trail_canvas is None:\n",
    "            trail_canvas = np.zeros_like(frame)\n",
    "            \n",
    "        hsv_frame = cv.cvtColor(frame, cv.COLOR_BGR2HSV)\n",
    "\n",
    "        mask1 = cv.inRange(hsv_frame, lower_blue_1, upper_blue_1)\n",
    "        \n",
    "        img = cv.bitwise_and(frame, frame, mask=mask1)\n",
    "\n",
    "        trail_canvas = cv.add(trail_canvas, img)\n",
    "\n",
    "        cv.imshow('Tracking de Azul', frame)\n",
    "        \n",
    "        cv.imshow('Mascara Azul', trail_canvas)\n",
    "\n",
    "        k = cv.waitKey(1) & 0xFF\n",
    "        if k == 27:\n",
    "            break\n",
    "            \n",
    "cap.release()\n",
    "cv.destroyAllWindows()"
   ]
  },
  {
   "cell_type": "code",
   "execution_count": null,
   "id": "7df4e24a-ca4b-4f8f-8e89-de79b83931d0",
   "metadata": {},
   "outputs": [],
   "source": []
  }
 ],
 "metadata": {
  "kernelspec": {
   "display_name": "Python 3 (ipykernel)",
   "language": "python",
   "name": "python3"
  },
  "language_info": {
   "codemirror_mode": {
    "name": "ipython",
    "version": 3
   },
   "file_extension": ".py",
   "mimetype": "text/x-python",
   "name": "python",
   "nbconvert_exporter": "python",
   "pygments_lexer": "ipython3",
   "version": "3.13.3"
  }
 },
 "nbformat": 4,
 "nbformat_minor": 5
}

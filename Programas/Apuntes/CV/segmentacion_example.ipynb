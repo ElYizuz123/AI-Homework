{
 "cells": [
  {
   "cell_type": "code",
   "execution_count": 1,
   "id": "e4d485e1-1e7b-4df0-81df-cb5064a764fd",
   "metadata": {},
   "outputs": [],
   "source": [
    "import cv2 as cv\n",
    "\n",
    "img = cv.imread('man1.jpg', 1)\n",
    "hsv = cv.cvtColor(img, cv.COLOR_BGR2HSV)\n",
    "ubb=(0, 100, 100)\n",
    "uba=(10, 255, 255)\n",
    "ubb2=(170, 100, 100)\n",
    "uba2=(180, 255, 255)\n",
    "\n",
    "mask1 = cv.inRange(hsv, ubb, uba)\n",
    "mask2 = cv.inRange(hsv, ubb2, uba2)\n",
    "mask = mask1 + mask2\n",
    "\n",
    "\n",
    "res = cv.bitwise_and(img, img, mask=mask)\n",
    "cv.imshow('mask', mask)\n",
    "cv.imshow('hsv', hsv)\n",
    "cv.imshow('res', res)\n",
    "cv.imshow('img', img)\n",
    "cv.waitKey(0)\n",
    "cv.destroyAllWindows()"
   ]
  },
  {
   "cell_type": "markdown",
   "id": "c26b5efc-7fc0-4f0f-b922-832cfdbe3434",
   "metadata": {},
   "source": [
    "Coordenadas por color"
   ]
  },
  {
   "cell_type": "code",
   "execution_count": 32,
   "id": "5c3d08be-4e52-4836-a04a-812d6a043e5b",
   "metadata": {
    "scrolled": true
   },
   "outputs": [
    {
     "name": "stdout",
     "output_type": "stream",
     "text": [
      "(532, 131)\n",
      "(532, 343)\n",
      "(514, 544)\n",
      "(525, 703)\n"
     ]
    }
   ],
   "source": [
    "import cv2 as cv\n",
    "import numpy as np\n",
    "\n",
    "def agrupar_coordenadas(lista_puntos):\n",
    "    resultado_final = []\n",
    "    subgrupo_actual = [lista_puntos[0]] \n",
    "    margen = 5\n",
    "\n",
    "    for i in range(1, len(lista_puntos)):\n",
    "        punto_actual = lista_puntos[i]\n",
    "        punto_anterior = lista_puntos[i - 1]\n",
    "\n",
    "        if abs(punto_actual[0] - punto_anterior[0]) > margen or abs(punto_actual[1] - punto_anterior[1]) > margen:\n",
    "            resultado_final.append(subgrupo_actual)\n",
    "            subgrupo_actual = [punto_actual]\n",
    "        else:\n",
    "            subgrupo_actual.append(punto_actual)\n",
    "\n",
    "    resultado_final.append(subgrupo_actual)\n",
    "    return resultado_final\n",
    "\n",
    "\n",
    "img = cv.imread('figura.png', 1)\n",
    "hsv = cv.cvtColor(img, cv.COLOR_BGR2HSV)\n",
    "ubb=(90, 100, 100)\n",
    "uba=(150, 255, 255)\n",
    "#ubb1=(170, 100, 100)\n",
    "#uba1=(200, 255, 255)\n",
    "\n",
    "#mask1 = cv.inRange(hsv, ubb, uba)\n",
    "#mask2 = cv.inRange(hsv, ubb1, uba1)\n",
    "mask = cv.inRange(hsv, ubb, uba)\n",
    "cont = 0\n",
    "contAux= 0\n",
    "vector1 = []\n",
    "mid1 = -1\n",
    "vectorX = []\n",
    "vectorY = []\n",
    "for i in mask:\n",
    "    comprobador = False \n",
    "    for j in i:\n",
    "        if (j==255):\n",
    "            comprobador = True\n",
    "            vector1.append((contAux, cont))\n",
    "            \n",
    "        contAux+=1\n",
    "    if len(vector1) > 0:  \n",
    "        mid1 = vector1[len(vector1)//2]  \n",
    "        vectorX.append(mid1)\n",
    "        #print(mid1)\n",
    "    vector1 = []\n",
    "    cont+=1\n",
    "    contAux=0\n",
    "cont=0\n",
    "contAux=0\n",
    "\n",
    "listas_divididas=agrupar_coordenadas(vectorX)\n",
    "for i in listas_divididas:\n",
    "    punto = i[len(i)//2]\n",
    "    print(punto)\n",
    "    cv.circle(img, (punto[0], punto[1]), 5, (239, 192, 250), -1) \n",
    "\n",
    "\n",
    "\n",
    "\n",
    "\n",
    "\n",
    "\n",
    "res = cv.bitwise_and(img, img, mask=mask)\n",
    "cv.imshow('Puntos detectados', img)\n",
    "cv.imshow('Mascara', mask)\n",
    "cv.waitKey(0)\n",
    "cv.destroyAllWindows()\n",
    "\n"
   ]
  },
  {
   "cell_type": "code",
   "execution_count": null,
   "id": "34645913-ba72-4e45-a29b-6cd65d801d11",
   "metadata": {},
   "outputs": [],
   "source": []
  },
  {
   "cell_type": "code",
   "execution_count": null,
   "id": "a0dcdb47-f4fd-4992-90c7-c3a97e508a3b",
   "metadata": {},
   "outputs": [],
   "source": []
  }
 ],
 "metadata": {
  "kernelspec": {
   "display_name": "Python 3 (ipykernel)",
   "language": "python",
   "name": "python3"
  },
  "language_info": {
   "codemirror_mode": {
    "name": "ipython",
    "version": 3
   },
   "file_extension": ".py",
   "mimetype": "text/x-python",
   "name": "python",
   "nbconvert_exporter": "python",
   "pygments_lexer": "ipython3",
   "version": "3.13.3"
  }
 },
 "nbformat": 4,
 "nbformat_minor": 5
}

{
 "cells": [
  {
   "cell_type": "code",
   "execution_count": 1,
   "id": "e4d485e1-1e7b-4df0-81df-cb5064a764fd",
   "metadata": {},
   "outputs": [],
   "source": [
    "import cv2 as cv\n",
    "\n",
    "img = cv.imread('man1.jpg', 1)\n",
    "hsv = cv.cvtColor(img, cv.COLOR_BGR2HSV)\n",
    "ubb=(0, 100, 100)\n",
    "uba=(10, 255, 255)\n",
    "ubb2=(170, 100, 100)\n",
    "uba2=(180, 255, 255)\n",
    "\n",
    "mask1 = cv.inRange(hsv, ubb, uba)\n",
    "mask2 = cv.inRange(hsv, ubb2, uba2)\n",
    "mask = mask1 + mask2\n",
    "\n",
    "\n",
    "res = cv.bitwise_and(img, img, mask=mask)\n",
    "cv.imshow('mask', mask)\n",
    "cv.imshow('hsv', hsv)\n",
    "cv.imshow('res', res)\n",
    "cv.imshow('img', img)\n",
    "cv.waitKey(0)\n",
    "cv.destroyAllWindows()"
   ]
  },
  {
   "cell_type": "code",
   "execution_count": null,
   "id": "de83ff16-e294-45be-8b9b-c32912d63888",
   "metadata": {},
   "outputs": [],
   "source": []
  }
 ],
 "metadata": {
  "kernelspec": {
   "display_name": "Python 3 (ipykernel)",
   "language": "python",
   "name": "python3"
  },
  "language_info": {
   "codemirror_mode": {
    "name": "ipython",
    "version": 3
   },
   "file_extension": ".py",
   "mimetype": "text/x-python",
   "name": "python",
   "nbconvert_exporter": "python",
   "pygments_lexer": "ipython3",
   "version": "3.13.3"
  }
 },
 "nbformat": 4,
 "nbformat_minor": 5
}

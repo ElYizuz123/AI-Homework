{
 "cells": [
  {
   "cell_type": "code",
   "execution_count": 1,
   "id": "e4d485e1-1e7b-4df0-81df-cb5064a764fd",
   "metadata": {},
   "outputs": [],
   "source": [
    "import cv2 as cv\n",
    "\n",
    "img = cv.imread('man1.jpg', 1)\n",
    "hsv = cv.cvtColor(img, cv.COLOR_BGR2HSV)\n",
    "ubb=(0, 100, 100)\n",
    "uba=(10, 255, 255)\n",
    "ubb2=(170, 100, 100)\n",
    "uba2=(180, 255, 255)\n",
    "\n",
    "mask1 = cv.inRange(hsv, ubb, uba)\n",
    "mask2 = cv.inRange(hsv, ubb2, uba2)\n",
    "mask = mask1 + mask2\n",
    "\n",
    "\n",
    "res = cv.bitwise_and(img, img, mask=mask)\n",
    "cv.imshow('mask', mask)\n",
    "cv.imshow('hsv', hsv)\n",
    "cv.imshow('res', res)\n",
    "cv.imshow('img', img)\n",
    "cv.waitKey(0)\n",
    "cv.destroyAllWindows()"
   ]
  },
  {
   "cell_type": "markdown",
   "id": "c26b5efc-7fc0-4f0f-b922-832cfdbe3434",
   "metadata": {},
   "source": [
    "Coordenadas por color"
   ]
  },
  {
   "cell_type": "code",
   "execution_count": null,
   "id": "5c3d08be-4e52-4836-a04a-812d6a043e5b",
   "metadata": {},
   "outputs": [],
   "source": [
    "import cv2 as cv\n",
    "\n",
    "img = cv.imread('figura.png', 1)\n",
    "hsv = cv.cvtColor(img, cv.COLOR_BGR2HSV)\n",
    "ubb=(40, 100, 100)\n",
    "uba=(80, 255, 255)\n",
    "\n",
    "mask = cv.inRange(hsv, ubb, uba)\n",
    "cont = 0\n",
    "contAux= 0\n",
    "for i in mask:\n",
    "    for j in i:\n",
    "        if (j==255):\n",
    "            print(cont, contAux)\n",
    "        contAux+=1\n",
    "    cont+=1\n",
    "    contAux=0\n",
    "\n",
    "res = cv.bitwise_and(img, img, mask=mask)\n",
    "cv.imshow('res', res)\n",
    "\n",
    "cv.waitKey(0)\n",
    "cv.destroyAllWindows()"
   ]
  },
  {
   "cell_type": "code",
   "execution_count": null,
   "id": "34645913-ba72-4e45-a29b-6cd65d801d11",
   "metadata": {},
   "outputs": [],
   "source": []
  }
 ],
 "metadata": {
  "kernelspec": {
   "display_name": "Python 3 (ipykernel)",
   "language": "python",
   "name": "python3"
  },
  "language_info": {
   "codemirror_mode": {
    "name": "ipython",
    "version": 3
   },
   "file_extension": ".py",
   "mimetype": "text/x-python",
   "name": "python",
   "nbconvert_exporter": "python",
   "pygments_lexer": "ipython3",
   "version": "3.13.3"
  }
 },
 "nbformat": 4,
 "nbformat_minor": 5
}

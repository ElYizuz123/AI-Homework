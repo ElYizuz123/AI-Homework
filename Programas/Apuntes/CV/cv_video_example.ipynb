{
 "cells": [
  {
   "cell_type": "code",
   "execution_count": 2,
   "id": "3377708c-5a0f-4de3-81b0-1f5521e59262",
   "metadata": {},
   "outputs": [],
   "source": [
    "import cv2 as cv\n",
    "import numpy as np\n",
    "cap = cv.VideoCapture(0)\n",
    "while(True):\n",
    "    res, img = cap.read()\n",
    "    if res:\n",
    "        cv.imshow('Fotograma', img)\n",
    "        img2 = np.zeros(img.shape[:2], np.uint8)\n",
    "        b,g,r=cv.split(img)\n",
    "        b1=cv.merge([b, img2, img2])\n",
    "        g1=cv.merge([img2, g, img2])\n",
    "        r1=cv.merge([img2, img2, r])\n",
    "        res1 = cv.merge([g,r,b])\n",
    "        cv.imshow('res1', res1)\n",
    "        cv.imshow('b', b)\n",
    "        cv.imshow('g', g)\n",
    "        cv.imshow('r', r)\n",
    "        cv.imshow('b1', b1)\n",
    "        cv.imshow('g1', g1)\n",
    "        cv.imshow('r1', r1)\n",
    "        cv.imshow('marco2', img2)\n",
    "        cv.imshow('marco', img)\n",
    "\n",
    "        k = cv.waitKey(1)\n",
    "        if k == 27:\n",
    "            break\n",
    "cap.release()\n",
    "cv.destroyAllWindows()"
   ]
  },
  {
   "cell_type": "code",
   "execution_count": null,
   "id": "f9377b2a-9003-4b08-b7f7-735f2e39433b",
   "metadata": {},
   "outputs": [],
   "source": []
  }
 ],
 "metadata": {
  "kernelspec": {
   "display_name": "Python 3 (ipykernel)",
   "language": "python",
   "name": "python3"
  },
  "language_info": {
   "codemirror_mode": {
    "name": "ipython",
    "version": 3
   },
   "file_extension": ".py",
   "mimetype": "text/x-python",
   "name": "python",
   "nbconvert_exporter": "python",
   "pygments_lexer": "ipython3",
   "version": "3.13.3"
  }
 },
 "nbformat": 4,
 "nbformat_minor": 5
}

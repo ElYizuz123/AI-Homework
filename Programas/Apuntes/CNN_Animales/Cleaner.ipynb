{
 "cells": [
  {
   "cell_type": "markdown",
   "id": "50210cc7-34ca-46b1-aa68-51fa726886be",
   "metadata": {},
   "source": [
    "Mover las imagenes"
   ]
  },
  {
   "cell_type": "code",
   "execution_count": 3,
   "id": "d5793278-7346-4b94-bbf5-5379ca09b941",
   "metadata": {},
   "outputs": [
    {
     "name": "stdout",
     "output_type": "stream",
     "text": [
      "Se movieron 126607 imágenes correctamente.\n"
     ]
    }
   ],
   "source": [
    "import os\n",
    "import shutil\n",
    "\n",
    "# Rutas de las carpetas\n",
    "carpeta_A = \"/home/yisus/Escritorio/Datasets/DatasetsAnimales/Datasets AI/images\"\n",
    "carpeta_B = \"/home/yisus/Escritorio/Datasets/DatasetsAnimales/Datasets AI/Gatos\"\n",
    "\n",
    "# Extensiones de imágenes a mover\n",
    "extensiones = (\".jpg\", \".jpeg\", \".png\", \".gif\", \".bmp\", \".tiff\", \".webp\")\n",
    "\n",
    "contador = 0\n",
    "for raiz, carpetas, archivos in os.walk(carpeta_A):\n",
    "    for archivo in archivos:\n",
    "        if archivo.lower().endswith(extensiones):\n",
    "            origen = os.path.join(raiz, archivo)\n",
    "            destino = os.path.join(carpeta_B, archivo)\n",
    "\n",
    "            if os.path.exists(destino):\n",
    "                nombre, ext = os.path.splitext(archivo)\n",
    "                i = 1\n",
    "                while os.path.exists(destino):\n",
    "                    nuevo_nombre = f\"{nombre}_{i}{ext}\"\n",
    "                    destino = os.path.join(carpeta_B, nuevo_nombre)\n",
    "                    i += 1\n",
    "\n",
    "            shutil.move(origen, destino)\n",
    "            contador += 1\n",
    "\n",
    "            # Solo mostrar mensaje cada 100 imágenes\n",
    "            if contador % 100 == 0:\n",
    "                print(f\"Movidas {contador} imágenes...\", end=\"\\r\")\n",
    "\n",
    "print(f\"Se movieron {contador} imágenes correctamente.\")\n"
   ]
  },
  {
   "cell_type": "markdown",
   "id": "1666ac7a-1230-4992-8d1d-d8cf4f233ee9",
   "metadata": {},
   "source": [
    "Eliminar algunas imagenes de forma uniforme"
   ]
  },
  {
   "cell_type": "code",
   "execution_count": 4,
   "id": "af132323-9441-43a4-8753-ff7a7cbc546a",
   "metadata": {},
   "outputs": [
    {
     "name": "stdout",
     "output_type": "stream",
     "text": [
      "Total actual: 126607\n",
      "Se conservará 1 de cada 5.75 imágenes aproximadamente.\n",
      "🗑️  Eliminadas 104000 imágenes...\n",
      " Eliminadas 104607 imágenes. Quedan 22000 en total.\n"
     ]
    }
   ],
   "source": [
    "import os\n",
    "import math\n",
    "\n",
    "# Configuracion\n",
    "carpeta = \"/home/yisus/Escritorio/Datasets/DatasetsAnimales/Datasets AI/Gatos\"\n",
    "total_deseado = 22000\n",
    "extensiones = (\".jpg\", \".jpeg\", \".png\", \".bmp\", \".webp\")\n",
    "\n",
    "# Lista de imagenes\n",
    "imagenes = [os.path.join(carpeta, f) for f in os.listdir(carpeta)\n",
    "             if f.lower().endswith(extensiones)]\n",
    "imagenes.sort()  \n",
    "\n",
    "total_actual = len(imagenes)\n",
    "print(f\"Total actual: {total_actual}\")\n",
    "\n",
    "# Calcular Imagenes\n",
    "if total_actual <= total_deseado:\n",
    "    print(\"Ya tienes menos o igual a 20k imágenes, no se elimina nada.\")\n",
    "else:\n",
    "    paso = total_actual / total_deseado\n",
    "    print(f\"Se conservará 1 de cada {paso:.2f} imágenes aproximadamente.\")\n",
    "\n",
    "    # --- Seleccionar imagenes a conservar\n",
    "    indices_conservar = {math.floor(i * paso) for i in range(total_deseado)}\n",
    "    \n",
    "    # Eliminar el resto\n",
    "    eliminadas = 0\n",
    "    for idx, ruta in enumerate(imagenes):\n",
    "        if idx not in indices_conservar:\n",
    "            os.remove(ruta)\n",
    "            eliminadas += 1\n",
    "            if eliminadas % 1000 == 0:\n",
    "                print(f\"Eliminadas {eliminadas} imágenes...\", end=\"\\r\")\n",
    "\n",
    "    print(f\"\\n Eliminadas {eliminadas} imágenes. Quedan {total_deseado} en total.\")\n"
   ]
  },
  {
   "cell_type": "code",
   "execution_count": null,
   "id": "3a7b230b-fd84-4c41-8c4c-1079dade70ec",
   "metadata": {},
   "outputs": [],
   "source": []
  }
 ],
 "metadata": {
  "kernelspec": {
   "display_name": "Python 3 (ipykernel)",
   "language": "python",
   "name": "python3"
  },
  "language_info": {
   "codemirror_mode": {
    "name": "ipython",
    "version": 3
   },
   "file_extension": ".py",
   "mimetype": "text/x-python",
   "name": "python",
   "nbconvert_exporter": "python",
   "pygments_lexer": "ipython3",
   "version": "3.12.5"
  }
 },
 "nbformat": 4,
 "nbformat_minor": 5
}

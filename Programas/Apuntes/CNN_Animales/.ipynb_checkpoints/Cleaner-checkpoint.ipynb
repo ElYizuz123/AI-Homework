{
 "cells": [
  {
   "cell_type": "code",
   "execution_count": 1,
   "id": "d5793278-7346-4b94-bbf5-5379ca09b941",
   "metadata": {},
   "outputs": [
    {
     "name": "stdout",
     "output_type": "stream",
     "text": [
      "Movido: /home/yisus/Escritorio/Datasets/DatasetsAnimales/Datasets AI/Perros_1 No tan limpio/n02105641-Old_English_sheepdog/n02105641_9648.jpg → /home/yisus/Escritorio/Datasets/DatasetsAnimales/Datasets AI/Perros/n02105641_9648.jpgpg8.jpg\r"
     ]
    },
    {
     "name": "stderr",
     "output_type": "stream",
     "text": [
      "IOPub data rate exceeded.\n",
      "The Jupyter server will temporarily stop sending output\n",
      "to the client in order to avoid crashing it.\n",
      "To change this limit, set the config variable\n",
      "`--ServerApp.iopub_data_rate_limit`.\n",
      "\n",
      "Current values:\n",
      "ServerApp.iopub_data_rate_limit=1000000.0 (bytes/sec)\n",
      "ServerApp.rate_limit_window=3.0 (secs)\n",
      "\n"
     ]
    }
   ],
   "source": [
    "import os\n",
    "import shutil\n",
    "\n",
    "# Rutas de las carpetas\n",
    "carpeta_A = \"/home/yisus/Escritorio/Datasets/DatasetsAnimales/Datasets AI/Perros_1 No tan limpio\"\n",
    "carpeta_B = \"/home/yisus/Escritorio/Datasets/DatasetsAnimales/Datasets AI/Perros\"\n",
    "\n",
    "# Extensiones de imágenes a mover\n",
    "extensiones = (\".jpg\", \".jpeg\", \".png\", \".gif\", \".bmp\", \".tiff\", \".webp\")\n",
    "\n",
    "# Recorremos todas las subcarpetas dentro de A\n",
    "for raiz, carpetas, archivos in os.walk(carpeta_A):\n",
    "    for archivo in archivos:\n",
    "        if archivo.lower().endswith(extensiones):\n",
    "            origen = os.path.join(raiz, archivo)\n",
    "            destino = os.path.join(carpeta_B, archivo)\n",
    "\n",
    "            # Si ya existe un archivo con el mismo nombre, renombramos para evitar sobrescribir\n",
    "            if os.path.exists(destino):\n",
    "                nombre, ext = os.path.splitext(archivo)\n",
    "                contador = 1\n",
    "                while os.path.exists(destino):\n",
    "                    nuevo_nombre = f\"{nombre}_{contador}{ext}\"\n",
    "                    destino = os.path.join(carpeta_B, nuevo_nombre)\n",
    "                    contador += 1\n",
    "\n",
    "            # Movemos la imagen\n",
    "            if contador % 100 == 0:\n",
    "                print(f\"Movidas {contador} imágenes...\")\n",
    "\n",
    "print(\"Todas las imágenes han sido movidas correctamente\")\n"
   ]
  },
  {
   "cell_type": "code",
   "execution_count": null,
   "id": "8ddf565c-f452-40ee-b93a-1937c5e4a34b",
   "metadata": {},
   "outputs": [],
   "source": []
  }
 ],
 "metadata": {
  "kernelspec": {
   "display_name": "Python 3 (ipykernel)",
   "language": "python",
   "name": "python3"
  },
  "language_info": {
   "codemirror_mode": {
    "name": "ipython",
    "version": 3
   },
   "file_extension": ".py",
   "mimetype": "text/x-python",
   "name": "python",
   "nbconvert_exporter": "python",
   "pygments_lexer": "ipython3",
   "version": "3.12.5"
  }
 },
 "nbformat": 4,
 "nbformat_minor": 5
}

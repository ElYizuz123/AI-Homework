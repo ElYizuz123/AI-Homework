{
 "cells": [
  {
   "cell_type": "code",
   "execution_count": 2,
   "id": "c94d18a8-bd71-4a85-91f1-7efa3fb1fdf0",
   "metadata": {},
   "outputs": [],
   "source": [
    "import pandas as pd\n",
    "from sklearn.model_selection import train_test_split\n",
    "from sklearn.tree import DecisionTreeClassifier, export_graphviz\n",
    "import graphviz\n",
    "from sklearn.metrics import accuracy_score, classification_report, confusion_matrix\n",
    "import matplotlib.pyplot as plt\n",
    "import seaborn as sns"
   ]
  },
  {
   "cell_type": "markdown",
   "id": "d4a56943-5050-4082-bbc9-07554818f290",
   "metadata": {},
   "source": [
    "# Cargar el dataset"
   ]
  },
  {
   "cell_type": "code",
   "execution_count": 3,
   "id": "80b5fff9-5c9e-4df1-9674-d8d62b6235d8",
   "metadata": {},
   "outputs": [],
   "source": [
    "file_path = 'phaser2.csv'\n",
    "dataset = pd.read_csv(file_path)"
   ]
  },
  {
   "cell_type": "markdown",
   "id": "b1995e8c-774b-42b9-88c3-7459808c3fac",
   "metadata": {},
   "source": [
    "# Eliminar columnas innecesarias (como la vacía \"Unnamed: 3\")\n",
    "#dataset = dataset.drop(columns=['Unnamed: 3'])\n",
    "\n",
    "# Definir características (X) y etiquetas (y)"
   ]
  },
  {
   "cell_type": "code",
   "execution_count": 4,
   "id": "f1667a18-a55b-45e5-b404-d08387bf58d6",
   "metadata": {},
   "outputs": [],
   "source": [
    "X = dataset.iloc[:, :2]  # Las dos primeras columnas son las características\n",
    "y = dataset.iloc[:, 2]   # La tercera columna es la etiqueta"
   ]
  },
  {
   "cell_type": "code",
   "execution_count": 5,
   "id": "eeea6e3c-c77e-42a8-b09a-aa86fb3e8cb8",
   "metadata": {},
   "outputs": [
    {
     "name": "stdout",
     "output_type": "stream",
     "text": [
      "     654  257\n",
      "0     25  579\n",
      "1    281  325\n",
      "2    142  577\n",
      "3    104  546\n",
      "4    558  244\n",
      "..   ...  ...\n",
      "233  343  247\n",
      "234  688  358\n",
      "235  230  301\n",
      "236   25  223\n",
      "237  250  443\n",
      "\n",
      "[238 rows x 2 columns]\n"
     ]
    }
   ],
   "source": [
    "print(X)"
   ]
  },
  {
   "cell_type": "markdown",
   "id": "b4bcfeb1-936e-4d23-b788-707118438d03",
   "metadata": {},
   "source": [
    "# Dividir los datos en conjunto de entrenamiento y prueba"
   ]
  },
  {
   "cell_type": "code",
   "execution_count": 6,
   "id": "f9181064-9810-418b-b438-ea7624c37c95",
   "metadata": {},
   "outputs": [],
   "source": [
    "X_train, X_test, y_train, y_test = train_test_split(X, y, test_size=0.2, random_state=42)"
   ]
  },
  {
   "cell_type": "markdown",
   "id": "64e9f7e9-59b6-4b6f-a964-051e84e65484",
   "metadata": {},
   "source": [
    "# Crear el clasificador de Árbol de Decisión"
   ]
  },
  {
   "cell_type": "code",
   "execution_count": 7,
   "id": "82e94693-0be8-4645-8244-1612adcf98b8",
   "metadata": {},
   "outputs": [],
   "source": [
    "clf = DecisionTreeClassifier()"
   ]
  },
  {
   "cell_type": "markdown",
   "id": "68800fc9-4c90-4f5c-b989-a4f680021af7",
   "metadata": {},
   "source": [
    "# Entrenar el modelo"
   ]
  },
  {
   "cell_type": "code",
   "execution_count": 8,
   "id": "7648dae5-249a-4f01-a3b9-8cc3a46c02d7",
   "metadata": {},
   "outputs": [
    {
     "name": "stdout",
     "output_type": "stream",
     "text": [
      "     654  257\n",
      "115  553  207\n",
      "15   432  374\n",
      "212  638  360\n",
      "126  555  231\n",
      "6     32  215\n",
      "170  165  579\n",
      "9    574  301\n",
      "222  582  354\n",
      "112  473  327\n",
      "221  178  515\n",
      "183  635  583\n",
      "137   40  517\n",
      "30   166  389\n",
      "190  110  395\n",
      "113  453  481\n",
      "55   432  505\n",
      "24   370  495\n",
      "204  446  510\n",
      "86   448  464\n",
      "19   352  509\n",
      "207    1  466\n",
      "120  388  201\n",
      "141  323  333\n",
      "235  230  301\n",
      "10   665  559\n",
      "219  680  394\n",
      "173  114  238\n",
      "109  549  429\n",
      "75   500  209\n",
      "25    71  223\n",
      "124  303  311\n",
      "186  422  212\n",
      "180  366  307\n",
      "18   389  249\n",
      "68   640  352\n",
      "60   117  549\n",
      "148  102  237\n",
      "205  394  495\n",
      "114   51  533\n",
      "73   543  200\n",
      "82   486  481\n",
      "45   142  326\n",
      "16   159  310\n",
      "93   646  230\n",
      "199  339  214\n",
      "167  283  222\n",
      "38   332  593\n",
      "127  321  229 [0 1 0 0 1 1 0 0 0 1 0 1 1 1 0 1 1 1 0 1 1 1 1 1 0 0 1 0 0 1 1 0 1 1 0 1 1\n",
      " 1 1 0 1 1 1 0 0 1 0 1]\n"
     ]
    }
   ],
   "source": [
    "clf.fit(X_train, y_train)\n",
    "y_predict = clf.predict(X_test)\n",
    "\n",
    "print(X_test, y_predict)"
   ]
  },
  {
   "cell_type": "code",
   "execution_count": 9,
   "id": "ea61073d-165a-465a-a5fe-c050169ea5b0",
   "metadata": {},
   "outputs": [
    {
     "name": "stdout",
     "output_type": "stream",
     "text": [
      "     654  257\n",
      "115  553  207\n",
      "15   432  374\n",
      "212  638  360\n",
      "126  555  231\n",
      "6     32  215\n",
      "170  165  579\n",
      "9    574  301\n",
      "222  582  354\n",
      "112  473  327\n",
      "221  178  515\n",
      "183  635  583\n",
      "137   40  517\n",
      "30   166  389\n",
      "190  110  395\n",
      "113  453  481\n",
      "55   432  505\n",
      "24   370  495\n",
      "204  446  510\n",
      "86   448  464\n",
      "19   352  509\n",
      "207    1  466\n",
      "120  388  201\n",
      "141  323  333\n",
      "235  230  301\n",
      "10   665  559\n",
      "219  680  394\n",
      "173  114  238\n",
      "109  549  429\n",
      "75   500  209\n",
      "25    71  223\n",
      "124  303  311\n",
      "186  422  212\n",
      "180  366  307\n",
      "18   389  249\n",
      "68   640  352\n",
      "60   117  549\n",
      "148  102  237\n",
      "205  394  495\n",
      "114   51  533\n",
      "73   543  200\n",
      "82   486  481\n",
      "45   142  326\n",
      "16   159  310\n",
      "93   646  230\n",
      "199  339  214\n",
      "167  283  222\n",
      "38   332  593\n",
      "127  321  229 [0 1 0 0 1 1 0 0 0 1 0 1 1 1 1 1 1 1 1 1 1 1 1 1 0 0 1 0 0 1 0 0 1 1 0 1 1\n",
      " 1 1 0 1 1 1 0 0 0 0 1]\n"
     ]
    }
   ],
   "source": [
    "clf.fit(X_train, y_train)\n",
    "y_predict = clf.predict(X_test)\n",
    "\n",
    "print(X_test, y_predict)"
   ]
  },
  {
   "cell_type": "code",
   "execution_count": 10,
   "id": "fb5c1944-2b9f-4d44-8b01-2ba100919b22",
   "metadata": {},
   "outputs": [],
   "source": [
    "#cm = confusion_matrix(y_test, y_predict)\n",
    "#sns.heatmap(cm, annot=True, fmt='d', cmap='Blues',\n",
    "#            xticklabels=dataset.target_names,\n",
    "#            yticklabels=dataset.target_names)\n",
    "#plt.xlabel('Predicho')\n",
    "#plt.ylabel('Real')\n",
    "#plt.title('Matriz de Confusión')\n",
    "#plt.show()\n",
    "#"
   ]
  },
  {
   "cell_type": "code",
   "execution_count": 11,
   "id": "4ec54a1c-5680-4dc5-8bd7-cf70cd7b999e",
   "metadata": {},
   "outputs": [],
   "source": [
    "dot_data = export_graphviz(clf, out_file=None, \n",
    "                           feature_names=['Feature 1', 'Feature 2'],  \n",
    "                           class_names=['Clase 0', 'Clase 1'],  \n",
    "                           filled=True, rounded=True,  \n",
    "                           special_characters=True)  \n"
   ]
  },
  {
   "cell_type": "markdown",
   "id": "f53380cd-17f8-4040-89cb-c410548b875a",
   "metadata": {},
   "source": [
    "# Crear el gráfico con graphviz"
   ]
  },
  {
   "cell_type": "code",
   "execution_count": 12,
   "id": "21b7a48b-6a1a-4f4e-850d-34a1b413207e",
   "metadata": {},
   "outputs": [],
   "source": [
    "graph = graphviz.Source(dot_data)"
   ]
  },
  {
   "cell_type": "markdown",
   "id": "afa99aa9-9749-41c1-922e-d2206ca02a7b",
   "metadata": {},
   "source": [
    "# Mostrar el gráfico"
   ]
  },
  {
   "cell_type": "code",
   "execution_count": 13,
   "id": "026f815a-6f72-4296-b0b9-139d568dde6d",
   "metadata": {},
   "outputs": [
    {
     "data": {
      "text/plain": [
       "'Source.gv.pdf'"
      ]
     },
     "execution_count": 13,
     "metadata": {},
     "output_type": "execute_result"
    }
   ],
   "source": [
    "graph.view()"
   ]
  },
  {
   "cell_type": "code",
   "execution_count": null,
   "id": "bb855445-9781-427c-a3db-38f749a63c85",
   "metadata": {},
   "outputs": [],
   "source": []
  }
 ],
 "metadata": {
  "kernelspec": {
   "display_name": "Python 3 (ipykernel)",
   "language": "python",
   "name": "python3"
  },
  "language_info": {
   "codemirror_mode": {
    "name": "ipython",
    "version": 3
   },
   "file_extension": ".py",
   "mimetype": "text/x-python",
   "name": "python",
   "nbconvert_exporter": "python",
   "pygments_lexer": "ipython3",
   "version": "3.13.3"
  }
 },
 "nbformat": 4,
 "nbformat_minor": 5
}

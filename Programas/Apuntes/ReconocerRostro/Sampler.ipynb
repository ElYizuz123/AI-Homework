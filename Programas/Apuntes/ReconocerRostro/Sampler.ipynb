{
 "cells": [
  {
   "cell_type": "code",
   "execution_count": 6,
   "id": "eaeba83a-dd13-437c-8dbe-0a8ad67a8c21",
   "metadata": {},
   "outputs": [
    {
     "ename": "error",
     "evalue": "OpenCV(4.12.0) D:\\a\\opencv-python\\opencv-python\\opencv\\modules\\imgproc\\src\\color.cpp:199: error: (-215:Assertion failed) !_src.empty() in function 'cv::cvtColor'\n",
     "output_type": "error",
     "traceback": [
      "\u001b[31m---------------------------------------------------------------------------\u001b[39m",
      "\u001b[31merror\u001b[39m                                     Traceback (most recent call last)",
      "\u001b[36mCell\u001b[39m\u001b[36m \u001b[39m\u001b[32mIn[6]\u001b[39m\u001b[32m, line 10\u001b[39m\n\u001b[32m      8\u001b[39m \u001b[38;5;28;01mwhile\u001b[39;00m \u001b[38;5;28;01mTrue\u001b[39;00m:\n\u001b[32m      9\u001b[39m     ret, frame = cap.read()\n\u001b[32m---> \u001b[39m\u001b[32m10\u001b[39m     gray = \u001b[43mcv\u001b[49m\u001b[43m.\u001b[49m\u001b[43mcvtColor\u001b[49m\u001b[43m(\u001b[49m\u001b[43mframe\u001b[49m\u001b[43m,\u001b[49m\u001b[43m \u001b[49m\u001b[43mcv\u001b[49m\u001b[43m.\u001b[49m\u001b[43mCOLOR_BGR2GRAY\u001b[49m\u001b[43m)\u001b[49m\n\u001b[32m     11\u001b[39m     rostros = rostro.detectMultiScale(gray, \u001b[32m1.3\u001b[39m, \u001b[32m5\u001b[39m)\n\u001b[32m     12\u001b[39m     \u001b[38;5;28;01mfor\u001b[39;00m(x, y, w, h) \u001b[38;5;129;01min\u001b[39;00m rostros:\n\u001b[32m     13\u001b[39m        \u001b[38;5;66;03m#frame = cv.rectangle(frame, (x,y), (x+w, y+h), (0, 255, 0), 2)\u001b[39;00m\n",
      "\u001b[31merror\u001b[39m: OpenCV(4.12.0) D:\\a\\opencv-python\\opencv-python\\opencv\\modules\\imgproc\\src\\color.cpp:199: error: (-215:Assertion failed) !_src.empty() in function 'cv::cvtColor'\n"
     ]
    }
   ],
   "source": [
    "import numpy as np\n",
    "import cv2 as cv\n",
    "import math \n",
    "\n",
    "rostro = cv.CascadeClassifier('haarcascade_frontalface_alt.xml')\n",
    "cap = cv.VideoCapture(\"C:/Datasets/Keanu Reeves Plays With Puppies While Answering Fan Questions - BuzzFeed Celeb (720p, h264).mp4\")\n",
    "i = 0  \n",
    "while True:\n",
    "    ret, frame = cap.read()\n",
    "    gray = cv.cvtColor(frame, cv.COLOR_BGR2GRAY)\n",
    "    rostros = rostro.detectMultiScale(gray, 1.3, 5)\n",
    "    for(x, y, w, h) in rostros:\n",
    "       #frame = cv.rectangle(frame, (x,y), (x+w, y+h), (0, 255, 0), 2)\n",
    "       frame2 = frame[ y:y+h, x:x+w]\n",
    "       #frame3 = frame[x+30:x+w-30, y+30:y+h-30]\n",
    "       \n",
    "       frame2 = cv.resize(frame2, (100, 100), interpolation=cv.INTER_AREA)\n",
    "       \n",
    "        \n",
    "       if(i%1==0):\n",
    "           cv.imwrite('C:/Datasets/Keanu/Keanu'+str(i)+'.jpg', frame2)\n",
    "\n",
    "           cv.imshow('rostror', frame2)\n",
    "    cv.imshow('rostros', frame)\n",
    "    i = i+1\n",
    "    k = cv.waitKey(1)\n",
    "    if k == 27:\n",
    "        break\n",
    "cap.release()\n",
    "cv.destroyAllWindows()"
   ]
  },
  {
   "cell_type": "code",
   "execution_count": null,
   "id": "a2938e32-2a04-47b5-8484-cada7dc6a2a5",
   "metadata": {},
   "outputs": [],
   "source": []
  },
  {
   "cell_type": "code",
   "execution_count": null,
   "id": "c7451d2b-961d-437e-9427-eb8c4478f078",
   "metadata": {},
   "outputs": [],
   "source": []
  }
 ],
 "metadata": {
  "kernelspec": {
   "display_name": "Python 3 (ipykernel)",
   "language": "python",
   "name": "python3"
  },
  "language_info": {
   "codemirror_mode": {
    "name": "ipython",
    "version": 3
   },
   "file_extension": ".py",
   "mimetype": "text/x-python",
   "name": "python",
   "nbconvert_exporter": "python",
   "pygments_lexer": "ipython3",
   "version": "3.13.3"
  }
 },
 "nbformat": 4,
 "nbformat_minor": 5
}
